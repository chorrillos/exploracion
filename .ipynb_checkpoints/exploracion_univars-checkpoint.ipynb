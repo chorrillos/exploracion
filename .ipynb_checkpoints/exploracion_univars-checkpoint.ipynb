{
 "cells": [
  {
   "cell_type": "markdown",
   "id": "ebc2b195",
   "metadata": {},
   "source": [
    "Llamando mapa con datos"
   ]
  },
  {
   "cell_type": "code",
   "execution_count": 1,
   "id": "55dd625d",
   "metadata": {},
   "outputs": [],
   "source": [
    "import pandas as pd\n",
    "import geopandas as gpd\n",
    "\n",
    "link=\"https://github.com/chorrillos/preprocesamiento/raw/main/datadismap.gpkg\"\n",
    "datadismap = gpd.read_file(link, layer='DISTRITO')"
   ]
  },
  {
   "cell_type": "code",
   "execution_count": 2,
   "id": "91ebfd65",
   "metadata": {},
   "outputs": [
    {
     "data": {
      "text/plain": [
       "Index(['DEPARTAMEN', 'PROVINCIA', 'DISTRITO', 'INSTITUCIO', 'Poblacion',\n",
       "       'Superficie', 'Den_pob', 'RENIEC', 'POB-PEN', 'ES_PRIV', 'ES_PUB',\n",
       "       'N_COMIS', 'IIEE_PROG_PUB020', 'IIEE_PROG_PRIV2020', 'Latitud',\n",
       "       'Longitud', 'Ejec_reduc_delit', 'Increm_reduc_delit', 'IDH2019',\n",
       "       'Educ_sec_comp2019_pct', 'NBI2017_pct',\n",
       "       'niños_no_asisten_escuela2017_pct', 'Viv_sin_serv_hig2017_pct',\n",
       "       'pob_inf2018', 'pob_supf2018', 'pct_local_no_cobertura_cell',\n",
       "       'pct_local_cobertura_cell', 'ZG', 'Delitos', 'TID', 'Delitos_todos',\n",
       "       'geometry'],\n",
       "      dtype='object')"
      ]
     },
     "execution_count": 2,
     "metadata": {},
     "output_type": "execute_result"
    }
   ],
   "source": [
    "datadismap.columns"
   ]
  },
  {
   "cell_type": "markdown",
   "id": "00693aa1",
   "metadata": {},
   "source": [
    "Proyección del mapa:"
   ]
  },
  {
   "cell_type": "code",
   "execution_count": 3,
   "id": "be3e77ba",
   "metadata": {},
   "outputs": [
    {
     "data": {
      "text/plain": [
       "<Geographic 2D CRS: EPSG:4326>\n",
       "Name: WGS 84\n",
       "Axis Info [ellipsoidal]:\n",
       "- Lat[north]: Geodetic latitude (degree)\n",
       "- Lon[east]: Geodetic longitude (degree)\n",
       "Area of Use:\n",
       "- name: World.\n",
       "- bounds: (-180.0, -90.0, 180.0, 90.0)\n",
       "Datum: World Geodetic System 1984 ensemble\n",
       "- Ellipsoid: WGS 84\n",
       "- Prime Meridian: Greenwich"
      ]
     },
     "execution_count": 3,
     "metadata": {},
     "output_type": "execute_result"
    }
   ],
   "source": [
    "datadismap.crs"
   ]
  },
  {
   "cell_type": "code",
   "execution_count": null,
   "id": "ec145857",
   "metadata": {},
   "outputs": [],
   "source": [
    "datadismap.describe()"
   ]
  },
  {
   "cell_type": "markdown",
   "id": "5997edc2",
   "metadata": {},
   "source": [
    "Recordar paleta colores aqui: [colores](https://matplotlib.org/stable/tutorials/colors/colormaps.html)"
   ]
  },
  {
   "cell_type": "markdown",
   "id": "491bb530",
   "metadata": {},
   "source": [
    "# Explorando el IDH"
   ]
  },
  {
   "cell_type": "code",
   "execution_count": null,
   "id": "74f49cef",
   "metadata": {},
   "outputs": [],
   "source": [
    "# histograma\n",
    "\n",
    "import seaborn\n",
    "\n",
    "ax = seaborn.histplot(datadismap['IDH2019'], bins=5)\n",
    "# Add rug on horizontal axis\n",
    "seaborn.rugplot(\n",
    "    datadismap['IDH2019'], height=0.05, color='red', ax=ax\n",
    ")"
   ]
  },
  {
   "cell_type": "markdown",
   "id": "631d962b",
   "metadata": {},
   "source": [
    "Todos los intervalos posibles:"
   ]
  },
  {
   "cell_type": "code",
   "execution_count": null,
   "id": "0b7aad6d",
   "metadata": {},
   "outputs": [],
   "source": [
    "import mapclassify \n",
    "import numpy\n",
    "numpy.random.seed(12345)\n",
    "\n",
    "K=5\n",
    "# mismo ancho interval, posible pocos conteos, interpretacion facil\n",
    "ei5 = mapclassify.EqualInterval(datadismap['IDH2019'], k=K)\n",
    "# mismo ancho interval basado en SDs, interpretacion algo facil, inapropiado para valores muy sesgados\n",
    "msd = mapclassify.StdMean(datadismap['IDH2019'])\n",
    "# diff ancho interval, conteo similar, interpretacion dificil, repetidos complica cortes                                \n",
    "q5=mapclassify.Quantiles(datadismap['IDH2019'],k=K)\n",
    "# diff intervalo basado en similaridad, apropiado para data multimodal\n",
    "mb5 = mapclassify.MaximumBreaks(datadismap['IDH2019'], k=K)\n",
    "# diff intervalo basado en similaridad, apropiado para muy sesgada\n",
    "ht = mapclassify.HeadTailBreaks(datadismap['IDH2019']) \n",
    "# diff intervalo basado en similaridad, heuristico\n",
    "fj5 = mapclassify.FisherJenks(datadismap['IDH2019'], k=K)\n",
    "# diff intervalo basado en similaridad, optimizador\n",
    "jc5 = mapclassify.JenksCaspall(datadismap['IDH2019'], k=K)\n",
    "# diff intervalo basado en similaridad, heuristico\n",
    "mp5 = mapclassify.MaxP(datadismap['IDH2019'], k=K)   \n"
   ]
  },
  {
   "cell_type": "code",
   "execution_count": null,
   "id": "6fdb2517",
   "metadata": {},
   "outputs": [],
   "source": [
    "# resultado de ht\n",
    "ht"
   ]
  },
  {
   "cell_type": "markdown",
   "id": "aec499d4",
   "metadata": {},
   "source": [
    "## comparando intervalos"
   ]
  },
  {
   "cell_type": "code",
   "execution_count": null,
   "id": "61511e32",
   "metadata": {},
   "outputs": [],
   "source": [
    "class5 = q5, ei5,msd, ht, mb5, fj5, jc5, mp5\n",
    "# Collect ADCM for each classifier\n",
    "fits = numpy.array([ c.adcm for c in class5])\n",
    "# Convert ADCM scores to a DataFrame\n",
    "adcms = pd.DataFrame(fits)\n",
    "# Add classifier names\n",
    "adcms['classifier'] = [c.name for c in class5]\n",
    "# Add column names to the ADCM\n",
    "adcms.columns = ['ADCM', 'Classifier']\n",
    "ax = seaborn.barplot(\n",
    "    y='Classifier', x='ADCM', data=adcms, palette='Pastel1'\n",
    ")"
   ]
  },
  {
   "cell_type": "markdown",
   "id": "ed9d069f",
   "metadata": {},
   "source": [
    "## seleccionando cortes y añadiendo al data frame"
   ]
  },
  {
   "cell_type": "code",
   "execution_count": null,
   "id": "f90d05ce",
   "metadata": {},
   "outputs": [],
   "source": [
    "datadismap['Quantiles'] = q5.yb \n",
    "datadismap['Equal Interval'] = ei5.yb \n",
    "#datadismap['StdMean'] = ei5.yb \n",
    "#datadismap['Head-Tail Breaks'] = ht.yb\n",
    "#datadismap['Maximum Breaks'] = mb5.yb\n",
    "datadismap['Fisher-Jenks'] = fj5.yb\n",
    "datadismap['Jenks Caspall'] = jc5.yb\n",
    "datadismap['MaxP'] = mp5.yb"
   ]
  },
  {
   "cell_type": "markdown",
   "id": "8cf5bcbb",
   "metadata": {},
   "source": [
    "## solo los intervalos para IDH con ZNG y ZG"
   ]
  },
  {
   "cell_type": "code",
   "execution_count": null,
   "id": "afd4bfc3",
   "metadata": {},
   "outputs": [],
   "source": [
    "clasifIDH=datadismap.loc[:,['DISTRITO','IDH2019','Quantiles', 'Equal Interval',\n",
    "                            'Fisher-Jenks', 'Jenks Caspall', 'MaxP','ZG']].copy()\n",
    "\n",
    "clasifIDH.sort_values('IDH2019',inplace=True)\n",
    "clasifIDH=clasifIDH.drop('IDH2019',axis=1).set_index('DISTRITO')\n",
    "clasifIDH"
   ]
  },
  {
   "cell_type": "code",
   "execution_count": null,
   "id": "712202f7",
   "metadata": {},
   "outputs": [],
   "source": [
    "clasifIDH.drop('ZG',axis=1)"
   ]
  },
  {
   "cell_type": "markdown",
   "id": "64d3892e",
   "metadata": {},
   "source": [
    "## solo los intervalos para IDH para ZG"
   ]
  },
  {
   "cell_type": "code",
   "execution_count": null,
   "id": "3696d504",
   "metadata": {},
   "outputs": [],
   "source": [
    "clasifIDH_ZG=clasifIDH[clasifIDH.ZG=='ZG']\n",
    "clasifIDH_ZG=clasifIDH_ZG.drop(\"ZG\",axis=1)"
   ]
  },
  {
   "cell_type": "code",
   "execution_count": null,
   "id": "41eb2ed9",
   "metadata": {},
   "outputs": [],
   "source": [
    "TheCounts={x:clasifIDH_ZG[x].value_counts(sort=False,dropna=False).to_list() for x in clasifIDH_ZG.columns}\n",
    "pd.DataFrame({key:pd.Series(value) for key, value in TheCounts.items()})"
   ]
  },
  {
   "cell_type": "markdown",
   "id": "2dca2cd8",
   "metadata": {},
   "source": [
    "## Identificando patrones ZG e IDH"
   ]
  },
  {
   "cell_type": "code",
   "execution_count": null,
   "id": "57dc5eef",
   "metadata": {},
   "outputs": [],
   "source": [
    "ZGlist=datadismap[datadismap.ZG=='ZG'].DISTRITO.to_list()"
   ]
  },
  {
   "cell_type": "code",
   "execution_count": null,
   "id": "4ac6590f",
   "metadata": {},
   "outputs": [],
   "source": [
    "COLORtextY=['red' if y in ZGlist else 'grey' for y  in clasifIDH.index]"
   ]
  },
  {
   "cell_type": "code",
   "execution_count": null,
   "id": "050bbe77",
   "metadata": {},
   "outputs": [],
   "source": [
    "import matplotlib.pyplot as plt\n",
    "\n",
    "f, ax = plt.subplots(1, figsize=(9,300))\n",
    "seaborn.set(font_scale=1)\n",
    "\n",
    "ax = seaborn.heatmap(clasifIDH.drop('ZG',axis=1),yticklabels=1,\n",
    "    ax=ax)\n",
    "for aTick,aColor in zip (ax.get_yticklabels(), COLORtextY):\n",
    "    aTick.set_color(aColor)"
   ]
  },
  {
   "cell_type": "code",
   "execution_count": null,
   "id": "275b0bee",
   "metadata": {},
   "outputs": [],
   "source": [
    "q5.counts"
   ]
  },
  {
   "cell_type": "code",
   "execution_count": null,
   "id": "4ff60e9f",
   "metadata": {},
   "outputs": [],
   "source": [
    "class5new = q5, ei5, fj5, jc5, mp5\n",
    "pd.DataFrame(\n",
    "    {c.name: c.counts for c in class5new},\n",
    "    index=['Class-{}'.format(i+1) for i in range(5)]\n",
    ")"
   ]
  }
 ],
 "metadata": {
  "hide_input": false,
  "kernelspec": {
   "display_name": "Python 3 (ipykernel)",
   "language": "python",
   "name": "python3"
  },
  "language_info": {
   "codemirror_mode": {
    "name": "ipython",
    "version": 3
   },
   "file_extension": ".py",
   "mimetype": "text/x-python",
   "name": "python",
   "nbconvert_exporter": "python",
   "pygments_lexer": "ipython3",
   "version": "3.8.12"
  }
 },
 "nbformat": 4,
 "nbformat_minor": 5
}
